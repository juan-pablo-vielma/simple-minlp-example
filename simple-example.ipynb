{
 "cells": [
  {
   "cell_type": "markdown",
   "metadata": {},
   "source": [
    "## Initialization\n",
    "\n",
    "First load all required packages:"
   ]
  },
  {
   "cell_type": "code",
   "execution_count": 3,
   "metadata": {},
   "outputs": [
    {
     "name": "stdout",
     "output_type": "stream",
     "text": [
      "\u001b[32m\u001b[1mActivating\u001b[22m\u001b[39m environment at `~/github/simple-minlp-example/Project.toml`\n"
     ]
    }
   ],
   "source": [
    "import Pkg\n",
    "Pkg.activate(@__DIR__)\n",
    "Pkg.instantiate()\n",
    "using JuMP, Juniper, Cbc, Ipopt"
   ]
  },
  {
   "cell_type": "markdown",
   "metadata": {},
   "source": [
    "## Generate Instance Data"
   ]
  },
  {
   "cell_type": "code",
   "execution_count": null,
   "metadata": {},
   "outputs": [],
   "source": [
    "d = 10 \n",
    "max_val = 10000\n",
    "x = rand(1:max_val, d)\n",
    "y = rand(1:max_val, d)\n",
    "B = rand(d, d)"
   ]
  },
  {
   "cell_type": "markdown",
   "metadata": {},
   "source": [
    "## Fixed Matrix B\n",
    "\n",
    "Simple convex quadratic non-linear programming model:"
   ]
  },
  {
   "cell_type": "code",
   "execution_count": 4,
   "metadata": {},
   "outputs": [
    {
     "data": {
      "text/plain": [
       "get_A (generic function with 2 methods)"
      ]
     },
     "execution_count": 4,
     "metadata": {},
     "output_type": "execute_result"
    }
   ],
   "source": [
    "function get_A(x, y, B, nneg = false)\n",
    "    d = length(x)\n",
    "    model = Model(with_optimizer(Ipopt.Optimizer, print_level=0))\n",
    "    if nneg\n",
    "        @variable(model, A[1:d, 1:d] >=0 )\n",
    "    else\n",
    "        @variable(model, A[1:d, 1:d])\n",
    "    end\n",
    "    @constraint(model, y .== A*x)\n",
    "    @NLobjective(model, Min, sum((A[i,j] - B[i,j])^2 for i in 1:d, j in 1:d))\n",
    "    optimize!(model)\n",
    "    value.(A)\n",
    "end"
   ]
  },
  {
   "cell_type": "markdown",
   "metadata": {},
   "source": [
    "Get unconstrained `A`:"
   ]
  },
  {
   "cell_type": "code",
   "execution_count": 29,
   "metadata": {},
   "outputs": [
    {
     "data": {
      "text/plain": [
       "10×10 Array{Float64,2}:\n",
       " -0.0144436    -0.0662513   -0.00270775   …  -0.0192127    -0.000510254\n",
       "  0.0176725     0.081062     0.00331307       0.0235078     0.000624322\n",
       "  0.0104997     0.0481611    1.00197          0.0139666     0.000370927\n",
       " -0.0149048    -0.0683671   -0.00279422      -0.0198263    -0.000526549\n",
       "  1.00663       0.0303883    0.001242         0.00881255    0.000234044\n",
       "  0.00315395    0.0144669    0.000591272  …   1.0042        0.000111421\n",
       "  0.000282529   0.00129593   5.29659e-5       0.000375818   9.98101e-6 \n",
       " -0.000184509   0.999154    -3.459e-5        -0.000245432  -6.51821e-6 \n",
       "  0.00695367    0.0318958    0.00130361       0.00924973    0.000245655\n",
       "  0.0103844     0.0476322    0.00194677       0.0138132     1.00037    "
      ]
     },
     "metadata": {},
     "output_type": "display_data"
    }
   ],
   "source": [
    "A = get_A(x, y, B);\n",
    "display(A)"
   ]
  },
  {
   "cell_type": "markdown",
   "metadata": {},
   "source": [
    "Get non-negative `A`:"
   ]
  },
  {
   "cell_type": "code",
   "execution_count": 33,
   "metadata": {},
   "outputs": [
    {
     "data": {
      "text/plain": [
       "10×10 Array{Float64,2}:\n",
       " 9.16432e-9   0.0         9.2225e-8    …  4.40717e-9   5.32353e-7 \n",
       " 0.0176725    0.081062    0.00331345      0.0235079    0.000626337\n",
       " 0.0104998    0.0481611   1.00197         0.0139667    0.000374891\n",
       " 9.33671e-9   0.0         9.31445e-8      4.53677e-9   5.37229e-7 \n",
       " 1.00662      0.0303883   0.001243        0.00881267   0.000243166\n",
       " 0.00315429   0.0144667   0.000593399  …  1.0042       0.000137354\n",
       " 0.000288097  0.00129414  9.5878e-5       0.000378711  7.08208e-5 \n",
       " 1.75001e-6   0.99671     2.13439e-5      1.30458e-6   5.39195e-5 \n",
       " 0.00695383   0.0318958   0.00130457      0.00924984   0.000254012\n",
       " 0.0103845    0.0476322   0.00194741      0.0138133    1.00037    "
      ]
     },
     "metadata": {},
     "output_type": "display_data"
    }
   ],
   "source": [
    "A_nneg = get_A(x, y, B, true);\n",
    "display(A_nneg)"
   ]
  },
  {
   "cell_type": "markdown",
   "metadata": {},
   "source": [
    "## Variable Permutation Matrix B\n",
    "\n",
    "Simple mixed-integer convex quadratic non-linear programming model:"
   ]
  },
  {
   "cell_type": "code",
   "execution_count": 27,
   "metadata": {},
   "outputs": [
    {
     "data": {
      "text/plain": [
       "get_A_perm (generic function with 2 methods)"
      ]
     },
     "execution_count": 27,
     "metadata": {},
     "output_type": "execute_result"
    }
   ],
   "source": [
    "function get_A_perm(x, y, nneg = false)\n",
    "    optimizer = Juniper.Optimizer\n",
    "    params = Dict{Symbol,Any}()\n",
    "    params[:nl_solver] = with_optimizer(Ipopt.Optimizer, print_level=0)\n",
    "    params[:mip_solver] = with_optimizer(Cbc.Optimizer, logLevel=0)\n",
    "    params[:log_levels] = Symbol[]\n",
    "    d = length(x)\n",
    "    model = Model(with_optimizer(optimizer, params))\n",
    "    if nneg\n",
    "        @variable(model, A[1:d, 1:d] >=0 )\n",
    "    else\n",
    "        @variable(model, A[1:d, 1:d])\n",
    "    end\n",
    "    @variable(model, B[1:d, 1:d], Bin)\n",
    "    @constraint(model, [i = 1:d], sum(B[:,i]) == 1)\n",
    "    @constraint(model, [i = 1:d], sum(B[i,:]) == 1)\n",
    "    @constraint(model, y .== A*x)\n",
    "    @NLobjective(model, Min, sum((A[i,j] - B[i,j])^2 for i in 1:d, j in 1:d))\n",
    "    optimize!(model)\n",
    "    value.(A), round.(value.(B))\n",
    "end"
   ]
  },
  {
   "cell_type": "markdown",
   "metadata": {},
   "source": [
    "Get unconstrained `A` and permutation matrix `B`:"
   ]
  },
  {
   "cell_type": "code",
   "execution_count": 34,
   "metadata": {},
   "outputs": [
    {
     "data": {
      "text/plain": [
       "10×10 Array{Float64,2}:\n",
       " -0.0144436    -0.0662513   -0.00270775   …  -0.0192127    -0.000510254\n",
       "  0.0176725     0.081062     0.00331307       0.0235078     0.000624322\n",
       "  0.0104997     0.0481611    1.00197          0.0139666     0.000370927\n",
       " -0.0149048    -0.0683671   -0.00279422      -0.0198263    -0.000526549\n",
       "  1.00663       0.0303883    0.001242         0.00881256    0.000234044\n",
       "  0.00315394    0.0144669    0.000591272  …   1.0042        0.000111421\n",
       "  0.000282529   0.00129593   5.29659e-5       0.000375818   9.98101e-6 \n",
       " -0.000184509   0.999154    -3.459e-5        -0.000245432  -6.51821e-6 \n",
       "  0.00695367    0.0318958    0.00130361       0.00924973    0.000245655\n",
       "  0.0103844     0.0476322    0.00194678       0.0138132     1.00037    "
      ]
     },
     "metadata": {},
     "output_type": "display_data"
    },
    {
     "data": {
      "text/plain": [
       "10×10 Array{Float64,2}:\n",
       " 0.0  0.0  0.0  0.0  0.0  0.0  1.0  0.0  0.0  0.0\n",
       " 0.0  0.0  0.0  0.0  1.0  0.0  0.0  0.0  0.0  0.0\n",
       " 0.0  0.0  1.0  0.0  0.0  0.0  0.0  0.0  0.0  0.0\n",
       " 0.0  0.0  0.0  0.0  0.0  1.0  0.0  0.0  0.0  0.0\n",
       " 1.0  0.0  0.0  0.0  0.0  0.0  0.0  0.0  0.0  0.0\n",
       " 0.0  0.0  0.0  0.0  0.0  0.0  0.0  0.0  1.0  0.0\n",
       " 0.0  0.0  0.0  0.0  0.0  0.0  0.0  1.0  0.0  0.0\n",
       " 0.0  1.0  0.0  0.0  0.0  0.0  0.0  0.0  0.0  0.0\n",
       " 0.0  0.0  0.0  1.0  0.0  0.0  0.0  0.0  0.0  0.0\n",
       " 0.0  0.0  0.0  0.0  0.0  0.0  0.0  0.0  0.0  1.0"
      ]
     },
     "metadata": {},
     "output_type": "display_data"
    }
   ],
   "source": [
    "A_perm, B_perm = get_A_perm(x, y);\n",
    "display(A_perm)\n",
    "display(B_perm)"
   ]
  },
  {
   "cell_type": "markdown",
   "metadata": {},
   "source": [
    "Get non-negative `A` and permutation matrix `B`:"
   ]
  },
  {
   "cell_type": "code",
   "execution_count": 35,
   "metadata": {},
   "outputs": [
    {
     "data": {
      "text/plain": [
       "10×10 Array{Float64,2}:\n",
       " 0.0          0.0         2.70854e-8   …  0.0          1.86784e-7 \n",
       " 0.0176725    0.081062    0.00331321      0.0235078    0.000625052\n",
       " 0.0104998    0.0481611   1.00197         0.0139667    0.000372285\n",
       " 0.0          0.0         2.7419e-8       0.0          1.88554e-7 \n",
       " 1.00663      0.0303883   0.00124236      0.0088126    0.000237318\n",
       " 0.00315407   0.0144668   0.000592041  …  1.0042       0.000124588\n",
       " 0.000284375  0.00129509  7.97996e-5      0.000376753  5.35849e-5 \n",
       " 6.27034e-7   0.996712    9.98504e-6      4.67399e-7   3.6919e-5  \n",
       " 0.00695373   0.0318958   0.00130398      0.00924977   0.000248602\n",
       " 0.0103844    0.0476322   0.001947        0.0138133    1.00037    "
      ]
     },
     "metadata": {},
     "output_type": "display_data"
    },
    {
     "data": {
      "text/plain": [
       "10×10 Array{Float64,2}:\n",
       " 0.0  0.0  0.0  0.0  0.0  0.0  1.0  0.0  0.0  0.0\n",
       " 0.0  0.0  0.0  0.0  1.0  0.0  0.0  0.0  0.0  0.0\n",
       " 0.0  0.0  1.0  0.0  0.0  0.0  0.0  0.0  0.0  0.0\n",
       " 0.0  0.0  0.0  0.0  0.0  1.0  0.0  0.0  0.0  0.0\n",
       " 1.0  0.0  0.0  0.0  0.0  0.0  0.0  0.0  0.0  0.0\n",
       " 0.0  0.0  0.0  0.0  0.0  0.0  0.0  0.0  1.0  0.0\n",
       " 0.0  0.0  0.0  0.0  0.0  0.0  0.0  1.0  0.0  0.0\n",
       " 0.0  1.0  0.0  0.0  0.0  0.0  0.0  0.0  0.0  0.0\n",
       " 0.0  0.0  0.0  1.0  0.0  0.0  0.0  0.0  0.0  0.0\n",
       " 0.0  0.0  0.0  0.0  0.0  0.0  0.0  0.0  0.0  1.0"
      ]
     },
     "metadata": {},
     "output_type": "display_data"
    }
   ],
   "source": [
    "A_perm_nneg, B_perm_nneg = get_A_perm(x, y, true);\n",
    "display(A_perm_nneg)\n",
    "display(B_perm_nneg)"
   ]
  },
  {
   "cell_type": "code",
   "execution_count": null,
   "metadata": {},
   "outputs": [],
   "source": []
  }
 ],
 "metadata": {
  "kernelspec": {
   "display_name": "Julia 1.2.0",
   "language": "julia",
   "name": "julia-1.2"
  },
  "language_info": {
   "file_extension": ".jl",
   "mimetype": "application/julia",
   "name": "julia",
   "version": "1.2.0"
  }
 },
 "nbformat": 4,
 "nbformat_minor": 2
}
